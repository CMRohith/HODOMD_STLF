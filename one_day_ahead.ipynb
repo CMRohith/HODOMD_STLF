{
  "nbformat": 4,
  "nbformat_minor": 0,
  "metadata": {
    "colab": {
      "provenance": []
    },
    "kernelspec": {
      "name": "python3",
      "display_name": "Python 3"
    },
    "language_info": {
      "name": "python"
    }
  },
  "cells": [
    {
      "cell_type": "code",
      "execution_count": 1,
      "metadata": {
        "colab": {
          "base_uri": "https://localhost:8080/"
        },
        "id": "R3bGk7i2tftY",
        "outputId": "197c9089-47e0-426a-9908-5aa187c7378f"
      },
      "outputs": [
        {
          "output_type": "stream",
          "name": "stdout",
          "text": [
            "Collecting pydmd\n",
            "  Downloading pydmd-2025.8.1-py3-none-any.whl.metadata (22 kB)\n",
            "Requirement already satisfied: numpy in /usr/local/lib/python3.12/dist-packages (from pydmd) (2.0.2)\n",
            "Requirement already satisfied: scipy>=1.6.0 in /usr/local/lib/python3.12/dist-packages (from pydmd) (1.16.2)\n",
            "Requirement already satisfied: matplotlib in /usr/local/lib/python3.12/dist-packages (from pydmd) (3.10.0)\n",
            "Requirement already satisfied: scikit-learn in /usr/local/lib/python3.12/dist-packages (from pydmd) (1.6.1)\n",
            "Requirement already satisfied: xarray in /usr/local/lib/python3.12/dist-packages (from pydmd) (2025.9.0)\n",
            "Requirement already satisfied: h5netcdf in /usr/local/lib/python3.12/dist-packages (from pydmd) (1.6.4)\n",
            "Requirement already satisfied: h5py in /usr/local/lib/python3.12/dist-packages (from h5netcdf->pydmd) (3.14.0)\n",
            "Requirement already satisfied: packaging in /usr/local/lib/python3.12/dist-packages (from h5netcdf->pydmd) (25.0)\n",
            "Requirement already satisfied: contourpy>=1.0.1 in /usr/local/lib/python3.12/dist-packages (from matplotlib->pydmd) (1.3.3)\n",
            "Requirement already satisfied: cycler>=0.10 in /usr/local/lib/python3.12/dist-packages (from matplotlib->pydmd) (0.12.1)\n",
            "Requirement already satisfied: fonttools>=4.22.0 in /usr/local/lib/python3.12/dist-packages (from matplotlib->pydmd) (4.60.0)\n",
            "Requirement already satisfied: kiwisolver>=1.3.1 in /usr/local/lib/python3.12/dist-packages (from matplotlib->pydmd) (1.4.9)\n",
            "Requirement already satisfied: pillow>=8 in /usr/local/lib/python3.12/dist-packages (from matplotlib->pydmd) (11.3.0)\n",
            "Requirement already satisfied: pyparsing>=2.3.1 in /usr/local/lib/python3.12/dist-packages (from matplotlib->pydmd) (3.2.4)\n",
            "Requirement already satisfied: python-dateutil>=2.7 in /usr/local/lib/python3.12/dist-packages (from matplotlib->pydmd) (2.9.0.post0)\n",
            "Requirement already satisfied: joblib>=1.2.0 in /usr/local/lib/python3.12/dist-packages (from scikit-learn->pydmd) (1.5.2)\n",
            "Requirement already satisfied: threadpoolctl>=3.1.0 in /usr/local/lib/python3.12/dist-packages (from scikit-learn->pydmd) (3.6.0)\n",
            "Requirement already satisfied: pandas>=2.2 in /usr/local/lib/python3.12/dist-packages (from xarray->pydmd) (2.2.2)\n",
            "Requirement already satisfied: pytz>=2020.1 in /usr/local/lib/python3.12/dist-packages (from pandas>=2.2->xarray->pydmd) (2025.2)\n",
            "Requirement already satisfied: tzdata>=2022.7 in /usr/local/lib/python3.12/dist-packages (from pandas>=2.2->xarray->pydmd) (2025.2)\n",
            "Requirement already satisfied: six>=1.5 in /usr/local/lib/python3.12/dist-packages (from python-dateutil>=2.7->matplotlib->pydmd) (1.17.0)\n",
            "Downloading pydmd-2025.8.1-py3-none-any.whl (152 kB)\n",
            "\u001b[2K   \u001b[90m━━━━━━━━━━━━━━━━━━━━━━━━━━━━━━━━━━━━━━━━\u001b[0m \u001b[32m152.7/152.7 kB\u001b[0m \u001b[31m7.5 MB/s\u001b[0m eta \u001b[36m0:00:00\u001b[0m\n",
            "\u001b[?25hInstalling collected packages: pydmd\n",
            "Successfully installed pydmd-2025.8.1\n"
          ]
        }
      ],
      "source": [
        "!pip install pydmd"
      ]
    },
    {
      "cell_type": "code",
      "source": [
        "import warnings\n",
        "warnings.filterwarnings(\"ignore\")"
      ],
      "metadata": {
        "id": "5OM0Xup8tyaT"
      },
      "execution_count": 3,
      "outputs": []
    },
    {
      "cell_type": "code",
      "source": [
        "import numpy as np\n",
        "import pandas as pd\n",
        "from pydmd import HODMD\n",
        "from sklearn.metrics import mean_squared_error\n",
        "\n",
        "# Read and process the new August dataset\n",
        "data = pd.read_csv('DEMAND_08_NSW_2004.csv')\n",
        "data['SETTLEMENTDATE'] = pd.to_datetime(data['SETTLEMENTDATE'])\n",
        "data = data.sort_values('SETTLEMENTDATE')\n",
        "data.set_index('SETTLEMENTDATE', inplace=True)\n",
        "\n",
        "# Choose the prediction target day (any date between 2004-08-09 and 2004-08-31 should work)\n",
        "target_day = pd.to_datetime(\"2004-08-22\")  # Example: predicting for August 22\n",
        "\n",
        "# Define the 4 input days\n",
        "day_minus_1 = target_day - pd.Timedelta(days=1)\n",
        "day_minus_2 = target_day - pd.Timedelta(days=2)\n",
        "week_same_day = target_day - pd.Timedelta(days=7)\n",
        "week_day_before = target_day - pd.Timedelta(days=8)\n",
        "\n",
        "# Extract 48 half-hourly data points from each of the four days\n",
        "def get_day_values(day):\n",
        "    try:\n",
        "        return data.loc[day.strftime('%Y-%m-%d'), 'TOTALDEMAND'].values\n",
        "    except KeyError:\n",
        "        print(f\"Missing data for {day.strftime('%Y-%m-%d')}\")\n",
        "        return np.zeros(48)\n",
        "\n",
        "training_days = [day_minus_2, day_minus_1, week_day_before, week_same_day]\n",
        "snapshots = np.concatenate([get_day_values(day) for day in training_days])\n",
        "\n",
        "# Define error metrics\n",
        "def calculate_mape(actual, predicted):\n",
        "    return np.mean(np.abs((actual - predicted) / actual)) * 100\n",
        "\n",
        "def evaluate_d(d):\n",
        "    d = int(d)\n",
        "    hodmd = HODMD(svd_rank=0, exact=True, opt=True, d=d).fit(snapshots[None])\n",
        "\n",
        "    future_time_steps = 48  # Predict next day\n",
        "    hodmd.dmd_time[\"tend\"] = snapshots.shape[0] + future_time_steps\n",
        "\n",
        "    snapshots_actual = get_day_values(target_day)\n",
        "    dmd_predictions = hodmd.reconstructed_data[0].real[-future_time_steps:]\n",
        "\n",
        "    mae = np.mean(np.abs(snapshots_actual - dmd_predictions))\n",
        "    mse = mean_squared_error(snapshots_actual, dmd_predictions)\n",
        "    rmse = np.sqrt(mse)\n",
        "    mape = calculate_mape(snapshots_actual, dmd_predictions)\n",
        "\n",
        "    return mae, rmse, mape\n",
        "\n",
        "# Search for best d\n",
        "coarse_range = range(10, 192, 50)\n",
        "best_d = min(coarse_range, key=lambda d: evaluate_d(d)[1])\n",
        "\n",
        "fine_range = range(max(1, best_d - 20), min(192, best_d + 20), 5)\n",
        "best_d = min(fine_range, key=lambda d: evaluate_d(d)[1])\n",
        "\n",
        "final_range = range(max(1, best_d - 5), min(192, best_d + 5), 2)\n",
        "best_d = min(final_range, key=lambda d: evaluate_d(d)[1])\n",
        "\n",
        "# Final evaluation\n",
        "best_mae, best_rmse, best_mape = evaluate_d(best_d)\n",
        "print(f\"Optimal d: {best_d}, RMSE: {best_rmse}, MAE: {best_mae}, MAPE: {best_mape}\")\n"
      ],
      "metadata": {
        "colab": {
          "base_uri": "https://localhost:8080/"
        },
        "id": "TSv26hfWtjH2",
        "outputId": "9c6d28df-dd57-4e21-fe5f-6218640884fc"
      },
      "execution_count": 4,
      "outputs": [
        {
          "output_type": "stream",
          "name": "stdout",
          "text": [
            "Optimal d: 41, RMSE: 379.84814410928345, MAE: 305.38540511585524, MAPE: 3.858076832912496\n"
          ]
        }
      ]
    }
  ]
}